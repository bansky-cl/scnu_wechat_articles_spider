{
 "cells": [
  {
   "cell_type": "code",
   "execution_count": 11,
   "metadata": {},
   "outputs": [],
   "source": [
    "import pandas as pd"
   ]
  },
  {
   "cell_type": "code",
   "execution_count": 12,
   "metadata": {},
   "outputs": [],
   "source": [
    "data_path = \"./article23-24/content23-24v3.csv\"\n",
    "df = pd.read_csv(data_path, encoding='utf-8')"
   ]
  },
  {
   "cell_type": "code",
   "execution_count": 13,
   "metadata": {},
   "outputs": [
    {
     "data": {
      "text/plain": [
       "(179, 5)"
      ]
     },
     "execution_count": 13,
     "metadata": {},
     "output_type": "execute_result"
    }
   ],
   "source": [
    "df.shape # 多了个时间"
   ]
  },
  {
   "cell_type": "code",
   "execution_count": 14,
   "metadata": {},
   "outputs": [],
   "source": [
    "df.drop(columns=['url'],inplace=True)# 为了安全去掉url"
   ]
  },
  {
   "cell_type": "code",
   "execution_count": 15,
   "metadata": {},
   "outputs": [
    {
     "data": {
      "text/plain": [
       "title      0\n",
       "time       0\n",
       "tags       0\n",
       "content    0\n",
       "dtype: int64"
      ]
     },
     "execution_count": 15,
     "metadata": {},
     "output_type": "execute_result"
    }
   ],
   "source": [
    "df.isnull().sum() # 没有空的"
   ]
  },
  {
   "cell_type": "code",
   "execution_count": 16,
   "metadata": {},
   "outputs": [
    {
     "data": {
      "text/html": [
       "<div>\n",
       "<style scoped>\n",
       "    .dataframe tbody tr th:only-of-type {\n",
       "        vertical-align: middle;\n",
       "    }\n",
       "\n",
       "    .dataframe tbody tr th {\n",
       "        vertical-align: top;\n",
       "    }\n",
       "\n",
       "    .dataframe thead th {\n",
       "        text-align: right;\n",
       "    }\n",
       "</style>\n",
       "<table border=\"1\" class=\"dataframe\">\n",
       "  <thead>\n",
       "    <tr style=\"text-align: right;\">\n",
       "      <th></th>\n",
       "      <th>title</th>\n",
       "      <th>time</th>\n",
       "      <th>tags</th>\n",
       "      <th>content</th>\n",
       "    </tr>\n",
       "  </thead>\n",
       "  <tbody>\n",
       "    <tr>\n",
       "      <th>5</th>\n",
       "      <td>华师新鲜血液！+360！</td>\n",
       "      <td>2023-09-14</td>\n",
       "      <td>['华师头条']</td>\n",
       "      <td>今天华师举行2023年新入职教师宣誓暨岗前培训开班仪式360名新入职教师庄严宣誓志愿成为一名...</td>\n",
       "    </tr>\n",
       "    <tr>\n",
       "      <th>6</th>\n",
       "      <td>华师出表情包了！尊嘟假嘟O.o</td>\n",
       "      <td>2023-09-13</td>\n",
       "      <td>['华师漫话', '创意华师', '90周年校庆']</td>\n",
       "      <td>表情包是大家必不可少的聊天工具在90周年校庆即将来临之际华师人专属表情包上新啦多种角色多样选...</td>\n",
       "    </tr>\n",
       "    <tr>\n",
       "      <th>7</th>\n",
       "      <td>华师人，夏天都去哪了</td>\n",
       "      <td>2023-09-12</td>\n",
       "      <td>['华师生活', '本科招生', '研究生招生']</td>\n",
       "      <td>开学已一周多了但华师人的暑假收获犹未尽22万+人次师生投身祖国大地他们助力乡村振兴下乡支教实...</td>\n",
       "    </tr>\n",
       "    <tr>\n",
       "      <th>8</th>\n",
       "      <td>华师，开训了！</td>\n",
       "      <td>2023-09-11</td>\n",
       "      <td>['华师头条', '2023新生入学', '华师军训']</td>\n",
       "      <td>九月华师2023级新生军训正当时他们在四校园训练场上身姿挺拔，朝气蓬勃让青春邂逅迷彩用热血铸...</td>\n",
       "    </tr>\n",
       "    <tr>\n",
       "      <th>9</th>\n",
       "      <td>“再讲两分钟，我就下课！”</td>\n",
       "      <td>2023-09-10</td>\n",
       "      <td>['华师头条', '华师节日', '华师人物']</td>\n",
       "      <td>今天第39个教师节身为世范，为人师表“躬耕教坛、强国有我”我们应当自信自强、踔厉奋发为强国建...</td>\n",
       "    </tr>\n",
       "  </tbody>\n",
       "</table>\n",
       "</div>"
      ],
      "text/plain": [
       "             title        time                          tags  \\\n",
       "5     华师新鲜血液！+360！  2023-09-14                      ['华师头条']   \n",
       "6  华师出表情包了！尊嘟假嘟O.o  2023-09-13    ['华师漫话', '创意华师', '90周年校庆']   \n",
       "7       华师人，夏天都去哪了  2023-09-12     ['华师生活', '本科招生', '研究生招生']   \n",
       "8          华师，开训了！  2023-09-11  ['华师头条', '2023新生入学', '华师军训']   \n",
       "9    “再讲两分钟，我就下课！”  2023-09-10      ['华师头条', '华师节日', '华师人物']   \n",
       "\n",
       "                                             content  \n",
       "5  今天华师举行2023年新入职教师宣誓暨岗前培训开班仪式360名新入职教师庄严宣誓志愿成为一名...  \n",
       "6  表情包是大家必不可少的聊天工具在90周年校庆即将来临之际华师人专属表情包上新啦多种角色多样选...  \n",
       "7  开学已一周多了但华师人的暑假收获犹未尽22万+人次师生投身祖国大地他们助力乡村振兴下乡支教实...  \n",
       "8  九月华师2023级新生军训正当时他们在四校园训练场上身姿挺拔，朝气蓬勃让青春邂逅迷彩用热血铸...  \n",
       "9  今天第39个教师节身为世范，为人师表“躬耕教坛、强国有我”我们应当自信自强、踔厉奋发为强国建...  "
      ]
     },
     "execution_count": 16,
     "metadata": {},
     "output_type": "execute_result"
    }
   ],
   "source": [
    "df[5:10]"
   ]
  },
  {
   "cell_type": "markdown",
   "metadata": {},
   "source": [
    "去除符号\\u200d和\\xa0"
   ]
  },
  {
   "cell_type": "code",
   "execution_count": 17,
   "metadata": {},
   "outputs": [],
   "source": [
    "import re"
   ]
  },
  {
   "cell_type": "code",
   "execution_count": 18,
   "metadata": {},
   "outputs": [],
   "source": [
    "def clean_spacechar(inputstr):\n",
    "    outputstr = re.sub(r'\\xa0',' ',inputstr)\n",
    "    outputstr = re.sub(r'\\u200d',' ',outputstr)\n",
    "    return outputstr"
   ]
  },
  {
   "cell_type": "code",
   "execution_count": 19,
   "metadata": {},
   "outputs": [],
   "source": [
    "df['content'] = df['content'].apply(clean_spacechar)"
   ]
  },
  {
   "cell_type": "code",
   "execution_count": 20,
   "metadata": {},
   "outputs": [],
   "source": [
    "df.to_csv(\"./article23-24/content_pp_2024.csv\", encoding='utf-8',index=None)"
   ]
  },
  {
   "cell_type": "code",
   "execution_count": 21,
   "metadata": {},
   "outputs": [
    {
     "data": {
      "text/html": [
       "<div>\n",
       "<style scoped>\n",
       "    .dataframe tbody tr th:only-of-type {\n",
       "        vertical-align: middle;\n",
       "    }\n",
       "\n",
       "    .dataframe tbody tr th {\n",
       "        vertical-align: top;\n",
       "    }\n",
       "\n",
       "    .dataframe thead th {\n",
       "        text-align: right;\n",
       "    }\n",
       "</style>\n",
       "<table border=\"1\" class=\"dataframe\">\n",
       "  <thead>\n",
       "    <tr style=\"text-align: right;\">\n",
       "      <th></th>\n",
       "      <th>title</th>\n",
       "      <th>time</th>\n",
       "      <th>tags</th>\n",
       "      <th>content</th>\n",
       "    </tr>\n",
       "  </thead>\n",
       "  <tbody>\n",
       "    <tr>\n",
       "      <th>5</th>\n",
       "      <td>华师新鲜血液！+360！</td>\n",
       "      <td>2023-09-14</td>\n",
       "      <td>['华师头条']</td>\n",
       "      <td>今天华师举行2023年新入职教师宣誓暨岗前培训开班仪式360名新入职教师庄严宣誓志愿成为一名...</td>\n",
       "    </tr>\n",
       "    <tr>\n",
       "      <th>6</th>\n",
       "      <td>华师出表情包了！尊嘟假嘟O.o</td>\n",
       "      <td>2023-09-13</td>\n",
       "      <td>['华师漫话', '创意华师', '90周年校庆']</td>\n",
       "      <td>表情包是大家必不可少的聊天工具在90周年校庆即将来临之际华师人专属表情包上新啦多种角色多样选...</td>\n",
       "    </tr>\n",
       "    <tr>\n",
       "      <th>7</th>\n",
       "      <td>华师人，夏天都去哪了</td>\n",
       "      <td>2023-09-12</td>\n",
       "      <td>['华师生活', '本科招生', '研究生招生']</td>\n",
       "      <td>开学已一周多了但华师人的暑假收获犹未尽22万+人次师生投身祖国大地他们助力乡村振兴下乡支教实...</td>\n",
       "    </tr>\n",
       "    <tr>\n",
       "      <th>8</th>\n",
       "      <td>华师，开训了！</td>\n",
       "      <td>2023-09-11</td>\n",
       "      <td>['华师头条', '2023新生入学', '华师军训']</td>\n",
       "      <td>九月华师2023级新生军训正当时他们在四校园训练场上身姿挺拔，朝气蓬勃让青春邂逅迷彩用热血铸...</td>\n",
       "    </tr>\n",
       "    <tr>\n",
       "      <th>9</th>\n",
       "      <td>“再讲两分钟，我就下课！”</td>\n",
       "      <td>2023-09-10</td>\n",
       "      <td>['华师头条', '华师节日', '华师人物']</td>\n",
       "      <td>今天第39个教师节身为世范，为人师表“躬耕教坛、强国有我”我们应当自信自强、踔厉奋发为强国建...</td>\n",
       "    </tr>\n",
       "  </tbody>\n",
       "</table>\n",
       "</div>"
      ],
      "text/plain": [
       "             title        time                          tags  \\\n",
       "5     华师新鲜血液！+360！  2023-09-14                      ['华师头条']   \n",
       "6  华师出表情包了！尊嘟假嘟O.o  2023-09-13    ['华师漫话', '创意华师', '90周年校庆']   \n",
       "7       华师人，夏天都去哪了  2023-09-12     ['华师生活', '本科招生', '研究生招生']   \n",
       "8          华师，开训了！  2023-09-11  ['华师头条', '2023新生入学', '华师军训']   \n",
       "9    “再讲两分钟，我就下课！”  2023-09-10      ['华师头条', '华师节日', '华师人物']   \n",
       "\n",
       "                                             content  \n",
       "5  今天华师举行2023年新入职教师宣誓暨岗前培训开班仪式360名新入职教师庄严宣誓志愿成为一名...  \n",
       "6  表情包是大家必不可少的聊天工具在90周年校庆即将来临之际华师人专属表情包上新啦多种角色多样选...  \n",
       "7  开学已一周多了但华师人的暑假收获犹未尽22万+人次师生投身祖国大地他们助力乡村振兴下乡支教实...  \n",
       "8  九月华师2023级新生军训正当时他们在四校园训练场上身姿挺拔，朝气蓬勃让青春邂逅迷彩用热血铸...  \n",
       "9  今天第39个教师节身为世范，为人师表“躬耕教坛、强国有我”我们应当自信自强、踔厉奋发为强国建...  "
      ]
     },
     "execution_count": 21,
     "metadata": {},
     "output_type": "execute_result"
    }
   ],
   "source": [
    "df[5:10]"
   ]
  },
  {
   "cell_type": "code",
   "execution_count": null,
   "metadata": {},
   "outputs": [],
   "source": []
  }
 ],
 "metadata": {
  "kernelspec": {
   "display_name": "Python 3.7.16 ('weixin')",
   "language": "python",
   "name": "python3"
  },
  "language_info": {
   "codemirror_mode": {
    "name": "ipython",
    "version": 3
   },
   "file_extension": ".py",
   "mimetype": "text/x-python",
   "name": "python",
   "nbconvert_exporter": "python",
   "pygments_lexer": "ipython3",
   "version": "3.7.16"
  },
  "orig_nbformat": 4,
  "vscode": {
   "interpreter": {
    "hash": "532185d5fe33b1fd9ca08b74677794e655f02fc4603772f3ead94d2abf980337"
   }
  }
 },
 "nbformat": 4,
 "nbformat_minor": 2
}
